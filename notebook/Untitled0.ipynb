{
 "metadata": {
  "name": "",
  "signature": "sha256:cc3ee10caff9bbbc21977a68f284e99f8f3e19c1ccb252ea2cbf9a4a832da21f"
 },
 "nbformat": 3,
 "nbformat_minor": 0,
 "worksheets": []
}